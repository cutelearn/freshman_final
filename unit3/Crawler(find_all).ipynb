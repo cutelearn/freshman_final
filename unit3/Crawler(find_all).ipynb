{
 "cells": [
  {
   "cell_type": "code",
   "execution_count": 13,
   "metadata": {},
   "outputs": [],
   "source": [
    "local = \"/app/web/index.html\""
   ]
  },
  {
   "attachments": {},
   "cell_type": "markdown",
   "metadata": {},
   "source": [
    "## HTML屬性搜尋"
   ]
  },
  {
   "cell_type": "code",
   "execution_count": 14,
   "metadata": {},
   "outputs": [
    {
     "name": "stdout",
     "output_type": "stream",
     "text": [
      "<div class=\"about\">\n",
      "<h3>自我介紹</h3>\n",
      "<p>您好!我是楊林凱丞,擁有一顆熱情學習的心\n",
      "                        每天不斷的為了變身成為全方位工程師而注入養份\n",
      "                        一心沉浸在掌握新技術的樂趣之中 !<br/><br/>\n",
      "                        我知道持續跳脫舒適圈的重要性,希望能夠躍入巨大的學習與成長曲線 !</p>\n",
      "</div>\n",
      "\n",
      "自我介紹\n",
      "您好!我是楊林凱丞,擁有一顆熱情學習的心\n",
      "                        每天不斷的為了變身成為全方位工程師而注入養份\n",
      "                        一心沉浸在掌握新技術的樂趣之中 !\n",
      "                        我知道持續跳脫舒適圈的重要性,希望能夠躍入巨大的學習與成長曲線 !\n",
      "\n"
     ]
    }
   ],
   "source": [
    "from bs4 import BeautifulSoup\n",
    "htmlfile = open(local, encoding=\"utf-8\")\n",
    "soup = BeautifulSoup(htmlfile, \"lxml\")\n",
    "tag = soup.find(class_=\"about\")\n",
    "print(tag)\n",
    "print(tag.text)"
   ]
  },
  {
   "attachments": {},
   "cell_type": "markdown",
   "metadata": {},
   "source": [
    "## HTML屬性搜尋(續)"
   ]
  },
  {
   "cell_type": "code",
   "execution_count": 15,
   "metadata": {},
   "outputs": [
    {
     "name": "stdout",
     "output_type": "stream",
     "text": [
      "<div class=\"about\">\n",
      "<h3>自我介紹</h3>\n",
      "<p>您好!我是楊林凱丞,擁有一顆熱情學習的心\n",
      "                        每天不斷的為了變身成為全方位工程師而注入養份\n",
      "                        一心沉浸在掌握新技術的樂趣之中 !<br/><br/>\n",
      "                        我知道持續跳脫舒適圈的重要性,希望能夠躍入巨大的學習與成長曲線 !</p>\n",
      "</div>\n",
      "\n",
      "自我介紹\n",
      "您好!我是楊林凱丞,擁有一顆熱情學習的心\n",
      "                        每天不斷的為了變身成為全方位工程師而注入養份\n",
      "                        一心沉浸在掌握新技術的樂趣之中 !\n",
      "                        我知道持續跳脫舒適圈的重要性,希望能夠躍入巨大的學習與成長曲線 !\n",
      "\n",
      "<div class=\"about\">\n",
      "<h3>經驗</h3>\n",
      "<div class=\"box\">\n",
      "<div class=\"year_company\">\n",
      "<h5>2022-Present</h5>\n",
      "<h5>Python and Scratch<br/>家教</h5>\n",
      "</div>\n",
      "<div class=\"text\">\n",
      "<h4>家教</h4>\n",
      "<p>教國小到國中生 培養他們邏輯思維,和透過程式自動化瑣碎事</p>\n",
      "</div>\n",
      "</div>\n",
      "</div>\n",
      "\n",
      "經驗\n",
      "\n",
      "\n",
      "2022-Present\n",
      "Python and Scratch家教\n",
      "\n",
      "\n",
      "家教\n",
      "教國小到國中生 培養他們邏輯思維,和透過程式自動化瑣碎事\n",
      "\n",
      "\n",
      "\n",
      "<div class=\"about skills\">\n",
      "<h3>技能</h3>\n",
      "<div class=\"box\">\n",
      "<h4>html/css</h4>\n",
      "<span class=\"percent\">\n",
      "<div style=\"width: 80%\"></div>\n",
      "</span>\n",
      "</div>\n",
      "<div class=\"box\">\n",
      "<h4>python</h4>\n",
      "<span class=\"percent\">\n",
      "<div style=\"width: 70%\"></div>\n",
      "</span>\n",
      "</div>\n",
      "<div class=\"box\">\n",
      "<h4>golang</h4>\n",
      "<span class=\"percent\">\n",
      "<div style=\"width: 50%\"></div>\n",
      "</span>\n",
      "</div>\n",
      "<div class=\"box\">\n",
      "<h4>javascript</h4>\n",
      "<span class=\"percent\">\n",
      "<div style=\"width: 50%\"></div>\n",
      "</span>\n",
      "</div>\n",
      "<div class=\"box\">\n",
      "<h4>docker</h4>\n",
      "<span class=\"percent\">\n",
      "<div style=\"width: 70%\"></div>\n",
      "</span>\n",
      "</div>\n",
      "</div>\n",
      "\n",
      "技能\n",
      "\n",
      "html/css\n",
      "\n",
      "\n",
      "\n",
      "\n",
      "\n",
      "python\n",
      "\n",
      "\n",
      "\n",
      "\n",
      "\n",
      "golang\n",
      "\n",
      "\n",
      "\n",
      "\n",
      "\n",
      "javascript\n",
      "\n",
      "\n",
      "\n",
      "\n",
      "\n",
      "docker\n",
      "\n",
      "\n",
      "\n",
      "\n",
      "\n"
     ]
    }
   ],
   "source": [
    "from bs4 import BeautifulSoup\n",
    "htmlfile = open(local, encoding=\"utf-8\")\n",
    "soup = BeautifulSoup(htmlfile, \"lxml\")\n",
    "tag = soup.find_all(class_=\"about\")\n",
    "for data in tag:\n",
    "    print(data)\n",
    "    print(data.text)"
   ]
  },
  {
   "attachments": {},
   "cell_type": "markdown",
   "metadata": {},
   "source": [
    "## HTML屬性搜尋(續)"
   ]
  },
  {
   "cell_type": "code",
   "execution_count": 16,
   "metadata": {},
   "outputs": [
    {
     "name": "stdout",
     "output_type": "stream",
     "text": [
      "<span class=\"text\" contact=\"phone\">+886902287750</span>\n",
      "+886902287750\n"
     ]
    }
   ],
   "source": [
    "from bs4 import BeautifulSoup\n",
    "htmlfile = open(local, encoding=\"utf-8\")\n",
    "soup = BeautifulSoup(htmlfile, \"lxml\")\n",
    "tag = soup.find(attrs={\"contact\":\"phone\"})\n",
    "print(tag)\n",
    "print(tag.text)"
   ]
  },
  {
   "attachments": {},
   "cell_type": "markdown",
   "metadata": {},
   "source": [
    "## 使用find()或find_all()執行CSS的搜尋"
   ]
  },
  {
   "cell_type": "code",
   "execution_count": 17,
   "metadata": {},
   "outputs": [
    {
     "name": "stdout",
     "output_type": "stream",
     "text": [
      "<span class=\"text\" contact=\"phone\">+886902287750</span>\n",
      "+886902287750\n",
      "----------------------------------------------------------------------\n",
      "<span class=\"text\" contact=\"phone\">+886902287750</span>\n",
      "+886902287750\n"
     ]
    }
   ],
   "source": [
    "from bs4 import BeautifulSoup\n",
    "htmlfile = open(local, encoding=\"utf-8\")\n",
    "soup = BeautifulSoup(htmlfile, \"lxml\")\n",
    "tag = soup.find(\"span\", class_=\"text\")\n",
    "print(tag)\n",
    "print(tag.text)\n",
    "print(\"-\"*70)\n",
    "tag = soup.find(\"span\",\"text\")\n",
    "print(tag)\n",
    "print(tag.text)"
   ]
  },
  {
   "attachments": {},
   "cell_type": "markdown",
   "metadata": {},
   "source": [
    "## 使用find()或find_all()執行CSS的搜尋(續)"
   ]
  },
  {
   "cell_type": "code",
   "execution_count": 18,
   "metadata": {},
   "outputs": [
    {
     "name": "stdout",
     "output_type": "stream",
     "text": [
      "<span class=\"text\" contact=\"phone\">+886902287750</span>\n",
      "+886902287750\n"
     ]
    }
   ],
   "source": [
    "from bs4 import BeautifulSoup\n",
    "import re\n",
    "htmlfile = open(local, encoding=\"utf-8\")\n",
    "soup = BeautifulSoup(htmlfile, \"lxml\")\n",
    "tag = soup.find(\"span\", class_=re.compile(\"text\"))\n",
    "print(tag)\n",
    "print(tag.text)"
   ]
  }
 ],
 "metadata": {
  "kernelspec": {
   "display_name": "freshman-final-9TtSrW0h-py3.11",
   "language": "python",
   "name": "python3"
  },
  "language_info": {
   "codemirror_mode": {
    "name": "ipython",
    "version": 3
   },
   "file_extension": ".py",
   "mimetype": "text/x-python",
   "name": "python",
   "nbconvert_exporter": "python",
   "pygments_lexer": "ipython3",
   "version": "3.11.2"
  },
  "orig_nbformat": 4
 },
 "nbformat": 4,
 "nbformat_minor": 2
}
