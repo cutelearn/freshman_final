{
 "cells": [
  {
   "cell_type": "code",
   "execution_count": null,
   "metadata": {},
   "outputs": [],
   "source": [
    "from bs4 import BeautifulSoup\n",
    "htmlfile = open(\"web/index.html\", encoding=\"utf-8\")\n",
    "soup = BeautifulSoup(htmlfile, \"lxml\")\n",
    "print(\"物件類型\", type(soup.title))\n",
    "print(\"列印title\", soup.title)"
   ]
  },
  {
   "cell_type": "code",
   "execution_count": null,
   "metadata": {},
   "outputs": [],
   "source": [
    "from bs4 import BeautifulSoup\n",
    "htmlfile = open(\"web/index.html\", encoding=\"utf-8\")\n",
    "soup = BeautifulSoup(htmlfile, \"lxml\")\n",
    "tag = soup.find(\"h3\")\n",
    "print(\"資料型態=\", type(tag))\n",
    "print(\"列印tag=\", tag)\n",
    "print(\"列印tag的文字=\", tag.text)\n",
    "print(\"String屬性內容=\", tag.string)"
   ]
  },
  {
   "cell_type": "code",
   "execution_count": null,
   "metadata": {},
   "outputs": [],
   "source": [
    "from bs4 import BeautifulSoup\n",
    "htmlfile = open(\"web/index.html\", encoding=\"utf-8\")\n",
    "soup = BeautifulSoup(htmlfile, \"lxml\")\n",
    "tag = soup.find_all(\"h3\")\n",
    "print(\"資料型態=\", type(tag))\n",
    "print(\"列印tag=串列\", tag)\n",
    "print(\"以下是串列元素:\")\n",
    "for data in tag:\n",
    "    print(data.text)\n"
   ]
  },
  {
   "cell_type": "code",
   "execution_count": null,
   "metadata": {},
   "outputs": [],
   "source": [
    "from bs4 import BeautifulSoup\n",
    "htmlfile = open(\"web/index.html\", encoding=\"utf-8\")\n",
    "soup = BeautifulSoup(htmlfile, \"lxml\")\n",
    "tag = soup.find_all(\"h3\",limit=2)\n",
    "\n",
    "for data in tag:\n",
    "    print(data.text)\n"
   ]
  },
  {
   "cell_type": "code",
   "execution_count": null,
   "metadata": {},
   "outputs": [],
   "source": [
    "from bs4 import BeautifulSoup\n",
    "htmlfile = open(\"web/index.html\", encoding=\"utf-8\")\n",
    "soup = BeautifulSoup(htmlfile, \"lxml\")\n",
    "tag = soup.find_all(class_=\"about\")\n",
    "print(tag)\n",
    "print(tag[0].text)"
   ]
  }
 ],
 "metadata": {
  "kernelspec": {
   "display_name": "Python 3",
   "language": "python",
   "name": "python3"
  },
  "language_info": {
   "codemirror_mode": {
    "name": "ipython",
    "version": 3
   },
   "file_extension": ".py",
   "mimetype": "text/x-python",
   "name": "python",
   "nbconvert_exporter": "python",
   "pygments_lexer": "ipython3",
   "version": "3.10.4"
  },
  "orig_nbformat": 4,
  "vscode": {
   "interpreter": {
    "hash": "3ad933181bd8a04b432d3370b9dc3b0662ad032c4dfaa4e4f1596c548f763858"
   }
  }
 },
 "nbformat": 4,
 "nbformat_minor": 2
}
