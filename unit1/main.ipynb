{
 "cells": [
  {
   "attachments": {},
   "cell_type": "markdown",
   "metadata": {},
   "source": [
    "# HW-1-crawler-1\n"
   ]
  },
  {
   "attachments": {},
   "cell_type": "markdown",
   "metadata": {},
   "source": [
    "[程式碼位置](https://github.com/cutelearn/freshman_final/blob/main/web/index.html)"
   ]
  },
  {
   "cell_type": "code",
   "execution_count": 10,
   "metadata": {},
   "outputs": [],
   "source": [
    "local = \"/app/web/index.html\""
   ]
  },
  {
   "attachments": {},
   "cell_type": "markdown",
   "metadata": {},
   "source": [
    "## 網頁標題title屬性"
   ]
  },
  {
   "cell_type": "code",
   "execution_count": 11,
   "metadata": {},
   "outputs": [
    {
     "name": "stdout",
     "output_type": "stream",
     "text": [
      "物件類型 <class 'bs4.element.Tag'>\n",
      "列印title <title>我的自製電子履歷表</title>\n"
     ]
    }
   ],
   "source": [
    "from bs4 import BeautifulSoup\n",
    "htmlfile = open(local, encoding=\"utf-8\")\n",
    "soup = BeautifulSoup(htmlfile, \"lxml\")\n",
    "print(\"物件類型=\", type(soup.title))\n",
    "print(\"列印title=\", soup.title)\n"
   ]
  },
  {
   "attachments": {},
   "cell_type": "markdown",
   "metadata": {},
   "source": [
    "## 網頁標題title屬性(續)"
   ]
  },
  {
   "cell_type": "code",
   "execution_count": 18,
   "metadata": {},
   "outputs": [
    {
     "name": "stdout",
     "output_type": "stream",
     "text": [
      "物件title= <title>我的自製電子履歷表</title>\n",
      "title內容= 我的自製電子履歷表\n"
     ]
    }
   ],
   "source": [
    "from bs4 import BeautifulSoup\n",
    "htmlfile = open(local, encoding=\"utf-8\")\n",
    "soup = BeautifulSoup(htmlfile, \"lxml\")\n",
    "print(\"物件title=\", soup.title)\n",
    "print(\"title內容=\", soup.title.text)"
   ]
  },
  {
   "attachments": {},
   "cell_type": "markdown",
   "metadata": {},
   "source": [
    "## 網頁標題title屬性(續)"
   ]
  },
  {
   "cell_type": "code",
   "execution_count": 12,
   "metadata": {},
   "outputs": [
    {
     "name": "stdout",
     "output_type": "stream",
     "text": [
      "資料型態= <class 'bs4.element.Tag'>\n",
      "列印tag= <h3>我的個人簡歷<br/><span>software engineer</span></h3>\n",
      "列印tag的文字= 我的個人簡歷software engineer\n",
      "String屬性內容= None\n"
     ]
    }
   ],
   "source": [
    "from bs4 import BeautifulSoup\n",
    "htmlfile = open(local, encoding=\"utf-8\")\n",
    "soup = BeautifulSoup(htmlfile, \"lxml\")\n",
    "tag = soup.find(\"h3\")\n",
    "print(\"資料型態=\", type(tag))\n",
    "print(\"列印tag=\", tag)\n",
    "print(\"列印tag的文字=\", tag.text)\n",
    "print(\"String屬性內容=\", tag.string)"
   ]
  },
  {
   "attachments": {},
   "cell_type": "markdown",
   "metadata": {},
   "source": [
    "## 網頁標題title屬性(續)"
   ]
  },
  {
   "cell_type": "code",
   "execution_count": 13,
   "metadata": {},
   "outputs": [
    {
     "name": "stdout",
     "output_type": "stream",
     "text": [
      "資料型態= <class 'bs4.element.ResultSet'>\n",
      "列印tag=串列 [<h3>我的個人簡歷<br/><span>software engineer</span></h3>, <h3>聯絡資訊</h3>, <h3>學歷</h3>, <h3>興趣</h3>, <h3>自我介紹</h3>, <h3>經驗</h3>, <h3>技能</h3>]\n",
      "以下是串列元素:\n",
      "我的個人簡歷software engineer\n",
      "聯絡資訊\n",
      "學歷\n",
      "興趣\n",
      "自我介紹\n",
      "經驗\n",
      "技能\n"
     ]
    }
   ],
   "source": [
    "from bs4 import BeautifulSoup\n",
    "htmlfile = open(local, encoding=\"utf-8\")\n",
    "soup = BeautifulSoup(htmlfile, \"lxml\")\n",
    "tag = soup.find_all(\"h3\")\n",
    "print(\"資料型態=\", type(tag))\n",
    "print(\"列印tag=串列\", tag)\n",
    "print(\"以下是串列元素:\")\n",
    "for data in tag:\n",
    "    print(data.text)\n"
   ]
  },
  {
   "attachments": {},
   "cell_type": "markdown",
   "metadata": {},
   "source": [
    "## 網頁標題title屬性(續)"
   ]
  },
  {
   "cell_type": "code",
   "execution_count": 14,
   "metadata": {},
   "outputs": [
    {
     "name": "stdout",
     "output_type": "stream",
     "text": [
      "我的個人簡歷software engineer\n",
      "聯絡資訊\n"
     ]
    }
   ],
   "source": [
    "from bs4 import BeautifulSoup\n",
    "htmlfile = open(local, encoding=\"utf-8\")\n",
    "soup = BeautifulSoup(htmlfile, \"lxml\")\n",
    "tag = soup.find_all(\"h3\",limit=2)\n",
    "\n",
    "for data in tag:\n",
    "    print(data.text)\n"
   ]
  },
  {
   "attachments": {},
   "cell_type": "markdown",
   "metadata": {},
   "source": [
    "## HTML屬性搜尋"
   ]
  },
  {
   "cell_type": "code",
   "execution_count": 22,
   "metadata": {},
   "outputs": [
    {
     "name": "stdout",
     "output_type": "stream",
     "text": [
      "<div class=\"about\">\n",
      "<h3>自我介紹</h3>\n",
      "<p>您好!我是楊林凱丞,擁有一顆熱情學習的心\n",
      "                        每天不斷的為了變身成為全方位工程師而注入養份\n",
      "                        一心沉浸在掌握新技術的樂趣之中 !<br/><br/>\n",
      "                        我知道持續跳脫舒適圈的重要性,希望能夠躍入巨大的學習與成長曲線 !</p>\n",
      "</div>\n",
      "\n",
      "自我介紹\n",
      "您好!我是楊林凱丞,擁有一顆熱情學習的心\n",
      "                        每天不斷的為了變身成為全方位工程師而注入養份\n",
      "                        一心沉浸在掌握新技術的樂趣之中 !\n",
      "                        我知道持續跳脫舒適圈的重要性,希望能夠躍入巨大的學習與成長曲線 !\n",
      "\n"
     ]
    }
   ],
   "source": [
    "from bs4 import BeautifulSoup\n",
    "htmlfile = open(local, encoding=\"utf-8\")\n",
    "soup = BeautifulSoup(htmlfile, \"lxml\")\n",
    "tag = soup.find(class_=\"about\")\n",
    "print(tag)\n",
    "print(tag.text)"
   ]
  },
  {
   "attachments": {},
   "cell_type": "markdown",
   "metadata": {},
   "source": [
    "## HTML屬性搜尋(續)"
   ]
  },
  {
   "cell_type": "code",
   "execution_count": 25,
   "metadata": {},
   "outputs": [
    {
     "name": "stdout",
     "output_type": "stream",
     "text": [
      "<div class=\"about\">\n",
      "<h3>自我介紹</h3>\n",
      "<p>您好!我是楊林凱丞,擁有一顆熱情學習的心\n",
      "                        每天不斷的為了變身成為全方位工程師而注入養份\n",
      "                        一心沉浸在掌握新技術的樂趣之中 !<br/><br/>\n",
      "                        我知道持續跳脫舒適圈的重要性,希望能夠躍入巨大的學習與成長曲線 !</p>\n",
      "</div>\n",
      "\n",
      "自我介紹\n",
      "您好!我是楊林凱丞,擁有一顆熱情學習的心\n",
      "                        每天不斷的為了變身成為全方位工程師而注入養份\n",
      "                        一心沉浸在掌握新技術的樂趣之中 !\n",
      "                        我知道持續跳脫舒適圈的重要性,希望能夠躍入巨大的學習與成長曲線 !\n",
      "\n",
      "<div class=\"about\">\n",
      "<h3>經驗</h3>\n",
      "<div class=\"box\">\n",
      "<div class=\"year_company\">\n",
      "<h5>2022-Present</h5>\n",
      "<h5>Python and Scratch<br/>家教</h5>\n",
      "</div>\n",
      "<div class=\"text\">\n",
      "<h4>家教</h4>\n",
      "<p>教國小到國中生 培養他們邏輯思維,和透過程式自動化瑣碎事</p>\n",
      "</div>\n",
      "</div>\n",
      "</div>\n",
      "\n",
      "經驗\n",
      "\n",
      "\n",
      "2022-Present\n",
      "Python and Scratch家教\n",
      "\n",
      "\n",
      "家教\n",
      "教國小到國中生 培養他們邏輯思維,和透過程式自動化瑣碎事\n",
      "\n",
      "\n",
      "\n",
      "<div class=\"about skills\">\n",
      "<h3>技能</h3>\n",
      "<div class=\"box\">\n",
      "<h4>html/css</h4>\n",
      "<span class=\"percent\">\n",
      "<div style=\"width: 80%\"></div>\n",
      "</span>\n",
      "</div>\n",
      "<div class=\"box\">\n",
      "<h4>python</h4>\n",
      "<span class=\"percent\">\n",
      "<div style=\"width: 70%\"></div>\n",
      "</span>\n",
      "</div>\n",
      "<div class=\"box\">\n",
      "<h4>golang</h4>\n",
      "<span class=\"percent\">\n",
      "<div style=\"width: 50%\"></div>\n",
      "</span>\n",
      "</div>\n",
      "<div class=\"box\">\n",
      "<h4>javascript</h4>\n",
      "<span class=\"percent\">\n",
      "<div style=\"width: 50%\"></div>\n",
      "</span>\n",
      "</div>\n",
      "<div class=\"box\">\n",
      "<h4>docker</h4>\n",
      "<span class=\"percent\">\n",
      "<div style=\"width: 70%\"></div>\n",
      "</span>\n",
      "</div>\n",
      "</div>\n",
      "\n",
      "技能\n",
      "\n",
      "html/css\n",
      "\n",
      "\n",
      "\n",
      "\n",
      "\n",
      "python\n",
      "\n",
      "\n",
      "\n",
      "\n",
      "\n",
      "golang\n",
      "\n",
      "\n",
      "\n",
      "\n",
      "\n",
      "javascript\n",
      "\n",
      "\n",
      "\n",
      "\n",
      "\n",
      "docker\n",
      "\n",
      "\n",
      "\n",
      "\n",
      "\n"
     ]
    }
   ],
   "source": [
    "from bs4 import BeautifulSoup\n",
    "htmlfile = open(local, encoding=\"utf-8\")\n",
    "soup = BeautifulSoup(htmlfile, \"lxml\")\n",
    "tag = soup.find_all(class_=\"about\")\n",
    "for data in tag:\n",
    "    print(data)\n",
    "    print(data.text)"
   ]
  },
  {
   "attachments": {},
   "cell_type": "markdown",
   "metadata": {},
   "source": [
    "## HTML屬性搜尋(續)"
   ]
  },
  {
   "cell_type": "code",
   "execution_count": 26,
   "metadata": {},
   "outputs": [
    {
     "name": "stdout",
     "output_type": "stream",
     "text": [
      "<span class=\"text\" contact=\"phone\">+886902287750</span>\n",
      "+886902287750\n"
     ]
    }
   ],
   "source": [
    "from bs4 import BeautifulSoup\n",
    "htmlfile = open(local, encoding=\"utf-8\")\n",
    "soup = BeautifulSoup(htmlfile, \"lxml\")\n",
    "tag = soup.find(attrs={\"contact\":\"phone\"})\n",
    "print(tag)\n",
    "print(tag.text)"
   ]
  }
 ],
 "metadata": {
  "kernelspec": {
   "display_name": "freshman-final-9TtSrW0h-py3.11",
   "language": "python",
   "name": "python3"
  },
  "language_info": {
   "codemirror_mode": {
    "name": "ipython",
    "version": 3
   },
   "file_extension": ".py",
   "mimetype": "text/x-python",
   "name": "python",
   "nbconvert_exporter": "python",
   "pygments_lexer": "ipython3",
   "version": "3.11.2"
  },
  "orig_nbformat": 4,
  "vscode": {
   "interpreter": {
    "hash": "a40ed7ffebd14a196c607fe84432a704e448c3b74d88d63edd5cc12feb6b7cf4"
   }
  }
 },
 "nbformat": 4,
 "nbformat_minor": 2
}
