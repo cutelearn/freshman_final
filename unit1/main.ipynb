{
 "cells": [
  {
   "cell_type": "code",
   "execution_count": 15,
   "metadata": {},
   "outputs": [],
   "source": [
    "local = \"/home/cason/Documents/work/python/freshman_final/web/index.html\""
   ]
  },
  {
   "cell_type": "code",
   "execution_count": 16,
   "metadata": {},
   "outputs": [
    {
     "name": "stdout",
     "output_type": "stream",
     "text": [
      "物件類型 <class 'bs4.element.Tag'>\n",
      "列印title <title>我的自製電子履歷表</title>\n"
     ]
    }
   ],
   "source": [
    "from bs4 import BeautifulSoup\n",
    "htmlfile = open(local, encoding=\"utf-8\")\n",
    "soup = BeautifulSoup(htmlfile, \"lxml\")\n",
    "print(\"物件類型\", type(soup.title))\n",
    "print(\"列印title\", soup.title)\n"
   ]
  },
  {
   "cell_type": "code",
   "execution_count": 17,
   "metadata": {},
   "outputs": [
    {
     "name": "stdout",
     "output_type": "stream",
     "text": [
      "資料型態= <class 'bs4.element.Tag'>\n",
      "列印tag= <h3>我的個人簡歷<br/><span>software engineer</span></h3>\n",
      "列印tag的文字= 我的個人簡歷software engineer\n",
      "String屬性內容= None\n"
     ]
    }
   ],
   "source": [
    "from bs4 import BeautifulSoup\n",
    "htmlfile = open(local, encoding=\"utf-8\")\n",
    "soup = BeautifulSoup(htmlfile, \"lxml\")\n",
    "tag = soup.find(\"h3\")\n",
    "print(\"資料型態=\", type(tag))\n",
    "print(\"列印tag=\", tag)\n",
    "print(\"列印tag的文字=\", tag.text)\n",
    "print(\"String屬性內容=\", tag.string)"
   ]
  },
  {
   "cell_type": "code",
   "execution_count": 18,
   "metadata": {},
   "outputs": [
    {
     "name": "stdout",
     "output_type": "stream",
     "text": [
      "資料型態= <class 'bs4.element.ResultSet'>\n",
      "列印tag=串列 [<h3>我的個人簡歷<br/><span>software engineer</span></h3>, <h3>聯絡資訊</h3>, <h3>學歷</h3>, <h3>興趣</h3>, <h3>自我介紹</h3>, <h3>經驗</h3>, <h3>技能</h3>]\n",
      "以下是串列元素:\n",
      "我的個人簡歷software engineer\n",
      "聯絡資訊\n",
      "學歷\n",
      "興趣\n",
      "自我介紹\n",
      "經驗\n",
      "技能\n"
     ]
    }
   ],
   "source": [
    "from bs4 import BeautifulSoup\n",
    "htmlfile = open(local, encoding=\"utf-8\")\n",
    "soup = BeautifulSoup(htmlfile, \"lxml\")\n",
    "tag = soup.find_all(\"h3\")\n",
    "print(\"資料型態=\", type(tag))\n",
    "print(\"列印tag=串列\", tag)\n",
    "print(\"以下是串列元素:\")\n",
    "for data in tag:\n",
    "    print(data.text)\n"
   ]
  },
  {
   "cell_type": "code",
   "execution_count": 19,
   "metadata": {},
   "outputs": [
    {
     "name": "stdout",
     "output_type": "stream",
     "text": [
      "我的個人簡歷software engineer\n",
      "聯絡資訊\n"
     ]
    }
   ],
   "source": [
    "from bs4 import BeautifulSoup\n",
    "htmlfile = open(local, encoding=\"utf-8\")\n",
    "soup = BeautifulSoup(htmlfile, \"lxml\")\n",
    "tag = soup.find_all(\"h3\",limit=2)\n",
    "\n",
    "for data in tag:\n",
    "    print(data.text)\n"
   ]
  },
  {
   "cell_type": "code",
   "execution_count": 20,
   "metadata": {},
   "outputs": [
    {
     "name": "stdout",
     "output_type": "stream",
     "text": [
      "[<div class=\"about\">\n",
      "<h3>自我介紹</h3>\n",
      "<p>您好!我是楊林凱丞,擁有一顆熱情學習的心\n",
      "                        每天不斷的為了變身成為全方位工程師而注入養份\n",
      "                        一心沉浸在掌握新技術的樂趣之中 !<br/><br/>\n",
      "                        我知道持續跳脫舒適圈的重要性,希望能夠躍入巨大的學習與成長曲線 !</p>\n",
      "</div>, <div class=\"about\">\n",
      "<h3>經驗</h3>\n",
      "<div class=\"box\">\n",
      "<div class=\"year_company\">\n",
      "<h5>2022-Present</h5>\n",
      "<h5>Python and Scratch<br/>家教</h5>\n",
      "</div>\n",
      "<div class=\"text\">\n",
      "<h4>家教</h4>\n",
      "<p>教國小到國中生 培養他們邏輯思維,和透過程式自動化瑣碎事</p>\n",
      "</div>\n",
      "</div>\n",
      "</div>, <div class=\"about skills\">\n",
      "<h3>技能</h3>\n",
      "<div class=\"box\">\n",
      "<h4>html/css</h4>\n",
      "<span class=\"percent\">\n",
      "<div style=\"width: 80%\"></div>\n",
      "</span>\n",
      "</div>\n",
      "<div class=\"box\">\n",
      "<h4>python</h4>\n",
      "<span class=\"percent\">\n",
      "<div style=\"width: 70%\"></div>\n",
      "</span>\n",
      "</div>\n",
      "<div class=\"box\">\n",
      "<h4>golang</h4>\n",
      "<span class=\"percent\">\n",
      "<div style=\"width: 50%\"></div>\n",
      "</span>\n",
      "</div>\n",
      "<div class=\"box\">\n",
      "<h4>javascript</h4>\n",
      "<span class=\"percent\">\n",
      "<div style=\"width: 50%\"></div>\n",
      "</span>\n",
      "</div>\n",
      "<div class=\"box\">\n",
      "<h4>docker</h4>\n",
      "<span class=\"percent\">\n",
      "<div style=\"width: 70%\"></div>\n",
      "</span>\n",
      "</div>\n",
      "</div>]\n",
      "\n",
      "自我介紹\n",
      "您好!我是楊林凱丞,擁有一顆熱情學習的心\n",
      "                        每天不斷的為了變身成為全方位工程師而注入養份\n",
      "                        一心沉浸在掌握新技術的樂趣之中 !\n",
      "                        我知道持續跳脫舒適圈的重要性,希望能夠躍入巨大的學習與成長曲線 !\n",
      "\n"
     ]
    }
   ],
   "source": [
    "from bs4 import BeautifulSoup\n",
    "htmlfile = open(local, encoding=\"utf-8\")\n",
    "soup = BeautifulSoup(htmlfile, \"lxml\")\n",
    "tag = soup.find_all(class_=\"about\")\n",
    "print(tag)\n",
    "print(tag[0].text)"
   ]
  }
 ],
 "metadata": {
  "kernelspec": {
   "display_name": "freshman-final-QqUBWAt0-py3.10",
   "language": "python",
   "name": "python3"
  },
  "language_info": {
   "codemirror_mode": {
    "name": "ipython",
    "version": 3
   },
   "file_extension": ".py",
   "mimetype": "text/x-python",
   "name": "python",
   "nbconvert_exporter": "python",
   "pygments_lexer": "ipython3",
   "version": "3.10.9 (main, Dec 19 2022, 17:35:49) [GCC 12.2.0]"
  },
  "orig_nbformat": 4,
  "vscode": {
   "interpreter": {
    "hash": "93f43250b9d320ce07fae8d8babf438b37a9cde95639c4ca705bf372a1427cc9"
   }
  }
 },
 "nbformat": 4,
 "nbformat_minor": 2
}
